{
 "cells": [
  {
   "cell_type": "code",
   "execution_count": 2,
   "id": "60d99ee7",
   "metadata": {},
   "outputs": [],
   "source": [
    "import pandas as pd\n",
    "import numpy as np\n",
    "import requests\n",
    "import json"
   ]
  },
  {
   "cell_type": "code",
   "execution_count": null,
   "id": "5ec53c24",
   "metadata": {},
   "outputs": [],
   "source": [
    "# Constants\n",
    "SENSEBOX_ID = \"6793f4e4c326f20007c34dd2\"  # The ID of the SenseBox\n",
    "API_URL_FORMAT_BOX = \"https://api.opensensemap.org/boxes/{sensebox_id}?format={response_format}\"\n",
    "API_URL_FORMAT_SENSOR = \"https://api.opensensemap.org/boxes/{sensebox_id}/data/{sensor_id}?from-date={fromDate}&to-date={toDate}&download=true&format=json\"\n",
    "\n",
    "# Function to create and return a dictionary {sensor name : sensor id}\n",
    "def get_sensor_names_ids():\n",
    "    # Construct the URL for the API request using the SenseBox ID and JSON format\n",
    "    url = API_URL_FORMAT_BOX.format(sensebox_id=SENSEBOX_ID, response_format=\"json\")\n",
    "\n",
    "    # Ensure the API request is successful by checking the status code\n",
    "    status_code = requests.get(url).status_code\n",
    "    assert status_code, f\"Failed fetching data from API. Status code: {status_code}\"\n",
    "\n",
    "    # Get the 'sensors' list from the JSON response\n",
    "    sensors = requests.get(url).json().get(\"sensors\")\n",
    "\n",
    "    # Create a dictionary to hold sensor names and their corresponding IDs\n",
    "    sensor_name_id = {}\n",
    "    for sensor in sensors:\n",
    "        # Format the sensor name: remove spaces and replace special characters\n",
    "        name = sensor.get('title').replace(\" \", \"\").replace(\".\", \"_\").replace(\"-\", \"_\")\n",
    "        _id = sensor.get('_id')  # Get the sensor ID\n",
    "        sensor_name_id.update({name: _id})  # Add entry to the dictionary\n",
    "\n",
    "    # Return the dictionary of sensor names and IDs\n",
    "    return sensor_name_id"
   ]
  },
  {
   "cell_type": "markdown",
   "id": "507d969c",
   "metadata": {},
   "source": [
    "### So kann man die namen und ids als eine Liste haben"
   ]
  },
  {
   "cell_type": "code",
   "execution_count": 73,
   "id": "1f6240cc",
   "metadata": {},
   "outputs": [
    {
     "data": {
      "text/plain": [
       "{'Temperatur': '6793f4e4c326f20007c34dd3',\n",
       " 'rel_Luftfeuchte': '6793f4e4c326f20007c34dd4',\n",
       " 'Beleuchtungsstärke': '6793f4e4c326f20007c34dd5',\n",
       " 'UV_Intensität': '6793f4e4c326f20007c34dd6',\n",
       " 'PM1': '6793f4e4c326f20007c34dd7',\n",
       " 'PM2_5': '6793f4e4c326f20007c34dd8',\n",
       " 'PM4': '6793f4e4c326f20007c34dd9',\n",
       " 'PM10': '6793f4e4c326f20007c34dda'}"
      ]
     },
     "execution_count": 73,
     "metadata": {},
     "output_type": "execute_result"
    }
   ],
   "source": [
    "get_sensor_names_ids()"
   ]
  },
  {
   "cell_type": "markdown",
   "id": "a683b81d",
   "metadata": {},
   "source": [
    "### Dict Ausgabe von der Funktion"
   ]
  },
  {
   "cell_type": "code",
   "execution_count": 5,
   "id": "5dce0a9a",
   "metadata": {},
   "outputs": [
    {
     "data": {
      "text/plain": [
       "{'Temperatur': '6793f4e4c326f20007c34dd3',\n",
       " 'rel_Luftfeuchte': '6793f4e4c326f20007c34dd4',\n",
       " 'Beleuchtungsstärke': '6793f4e4c326f20007c34dd5',\n",
       " 'UV_Intensität': '6793f4e4c326f20007c34dd6',\n",
       " 'PM1': '6793f4e4c326f20007c34dd7',\n",
       " 'PM2_5': '6793f4e4c326f20007c34dd8',\n",
       " 'PM4': '6793f4e4c326f20007c34dd9',\n",
       " 'PM10': '6793f4e4c326f20007c34dda'}"
      ]
     },
     "execution_count": 5,
     "metadata": {},
     "output_type": "execute_result"
    }
   ],
   "source": [
    "get_sensor_names_ids()"
   ]
  },
  {
   "cell_type": "markdown",
   "id": "fa9f03f7",
   "metadata": {},
   "source": [
    "### So kann man auf die einzelne Namen zugreifen"
   ]
  },
  {
   "cell_type": "code",
   "execution_count": 6,
   "id": "6d58c4a8",
   "metadata": {},
   "outputs": [
    {
     "data": {
      "text/plain": [
       "'6793f4e4c326f20007c34dd3'"
      ]
     },
     "execution_count": 6,
     "metadata": {},
     "output_type": "execute_result"
    }
   ],
   "source": [
    "sensor_id = get_sensor_names_ids()[\"Temperatur\"]\n",
    "sensor_id"
   ]
  },
  {
   "cell_type": "code",
   "execution_count": 70,
   "id": "eb9e30b1",
   "metadata": {},
   "outputs": [],
   "source": [
    "from datetime import datetime, timezone, timedelta\n",
    "def get_data(sensor_id:str,fromDate,toDate):\n",
    "\n",
    "    #get URL with sensor_id and dates\n",
    "    url = API_URL_FORMAT_SENSOR.format(sensebox_id=SENSEBOX_ID, sensor_id=sensor_id, fromDate=fromDate, toDate=toDate)\n",
    "    \n",
    "    #Make sure we get correct response\n",
    "    status_code = requests.get(url).status_code\n",
    "    assert status_code == 200, f\"Failed fetching data from api {status_code}\"\n",
    "    \n",
    "    #Get the json file of the sensor\n",
    "    data = requests.get(url).json()\n",
    "    data = [{'createdAt': item['createdAt'], 'value': item['value']} for item in data]\n",
    "    return data\n"
   ]
  },
  {
   "cell_type": "code",
   "execution_count": 71,
   "id": "18b5e0d6",
   "metadata": {},
   "outputs": [
    {
     "data": {
      "text/plain": [
       "[{'createdAt': '2025-06-27T20:59:59.023Z', 'value': '25.53'},\n",
       " {'createdAt': '2025-06-27T20:58:54.758Z', 'value': '25.57'},\n",
       " {'createdAt': '2025-06-27T20:57:54.621Z', 'value': '25.56'},\n",
       " {'createdAt': '2025-06-27T20:56:56.866Z', 'value': '25.59'},\n",
       " {'createdAt': '2025-06-27T20:55:54.347Z', 'value': '25.61'},\n",
       " {'createdAt': '2025-06-27T20:54:54.006Z', 'value': '25.60'},\n",
       " {'createdAt': '2025-06-27T20:53:53.754Z', 'value': '25.60'},\n",
       " {'createdAt': '2025-06-27T20:52:53.480Z', 'value': '25.57'},\n",
       " {'createdAt': '2025-06-27T20:51:53.225Z', 'value': '25.57'},\n",
       " {'createdAt': '2025-06-27T20:50:52.961Z', 'value': '25.66'}]"
      ]
     },
     "execution_count": 71,
     "metadata": {},
     "output_type": "execute_result"
    }
   ],
   "source": [
    "now = datetime.now(timezone.utc)\n",
    "iso_now = now.isoformat().replace('+00:00','Z')\n",
    "\n",
    "two_weeeks_ago = datetime.now(timezone.utc) - timedelta(minutes=10) \n",
    "iso_two_weeks_ago = two_weeeks_ago.isoformat().replace('+00:00','Z')\n",
    "\n",
    "iso_now, iso_two_weeks_ago\n",
    "\n",
    "data = get_data(sensor_id=\"6793f4e4c326f20007c34dd3\",fromDate=iso_two_weeks_ago,toDate=iso_now)\n",
    "data"
   ]
  },
  {
   "cell_type": "code",
   "execution_count": null,
   "id": "8f0b05cd",
   "metadata": {},
   "outputs": [
    {
     "data": {
      "text/html": [
       "<div>\n",
       "<style scoped>\n",
       "    .dataframe tbody tr th:only-of-type {\n",
       "        vertical-align: middle;\n",
       "    }\n",
       "\n",
       "    .dataframe tbody tr th {\n",
       "        vertical-align: top;\n",
       "    }\n",
       "\n",
       "    .dataframe thead th {\n",
       "        text-align: right;\n",
       "    }\n",
       "</style>\n",
       "<table border=\"1\" class=\"dataframe\">\n",
       "  <thead>\n",
       "    <tr style=\"text-align: right;\">\n",
       "      <th></th>\n",
       "      <th>createdAt</th>\n",
       "      <th>value</th>\n",
       "    </tr>\n",
       "  </thead>\n",
       "  <tbody>\n",
       "    <tr>\n",
       "      <th>0</th>\n",
       "      <td>2025-06-27T18:25:22.088Z</td>\n",
       "      <td>28.67</td>\n",
       "    </tr>\n",
       "    <tr>\n",
       "      <th>1</th>\n",
       "      <td>2025-06-27T18:24:21.477Z</td>\n",
       "      <td>28.77</td>\n",
       "    </tr>\n",
       "    <tr>\n",
       "      <th>2</th>\n",
       "      <td>2025-06-27T18:23:21.331Z</td>\n",
       "      <td>28.92</td>\n",
       "    </tr>\n",
       "    <tr>\n",
       "      <th>3</th>\n",
       "      <td>2025-06-27T18:22:21.145Z</td>\n",
       "      <td>29.02</td>\n",
       "    </tr>\n",
       "    <tr>\n",
       "      <th>4</th>\n",
       "      <td>2025-06-27T18:21:30.991Z</td>\n",
       "      <td>29.18</td>\n",
       "    </tr>\n",
       "    <tr>\n",
       "      <th>5</th>\n",
       "      <td>2025-06-27T18:20:20.814Z</td>\n",
       "      <td>29.14</td>\n",
       "    </tr>\n",
       "    <tr>\n",
       "      <th>6</th>\n",
       "      <td>2025-06-27T18:19:20.767Z</td>\n",
       "      <td>29.32</td>\n",
       "    </tr>\n",
       "    <tr>\n",
       "      <th>7</th>\n",
       "      <td>2025-06-27T18:18:20.543Z</td>\n",
       "      <td>29.37</td>\n",
       "    </tr>\n",
       "    <tr>\n",
       "      <th>8</th>\n",
       "      <td>2025-06-27T18:17:20.542Z</td>\n",
       "      <td>29.49</td>\n",
       "    </tr>\n",
       "    <tr>\n",
       "      <th>9</th>\n",
       "      <td>2025-06-27T18:16:20.260Z</td>\n",
       "      <td>29.48</td>\n",
       "    </tr>\n",
       "  </tbody>\n",
       "</table>\n",
       "</div>"
      ],
      "text/plain": [
       "                  createdAt  value\n",
       "0  2025-06-27T18:25:22.088Z  28.67\n",
       "1  2025-06-27T18:24:21.477Z  28.77\n",
       "2  2025-06-27T18:23:21.331Z  28.92\n",
       "3  2025-06-27T18:22:21.145Z  29.02\n",
       "4  2025-06-27T18:21:30.991Z  29.18\n",
       "5  2025-06-27T18:20:20.814Z  29.14\n",
       "6  2025-06-27T18:19:20.767Z  29.32\n",
       "7  2025-06-27T18:18:20.543Z  29.37\n",
       "8  2025-06-27T18:17:20.542Z  29.49\n",
       "9  2025-06-27T18:16:20.260Z  29.48"
      ]
     },
     "execution_count": 66,
     "metadata": {},
     "output_type": "execute_result"
    }
   ],
   "source": []
  },
  {
   "cell_type": "markdown",
   "id": "65517691",
   "metadata": {},
   "source": [
    "### create_dataframe function mit inputs sensor_id und from- und toDate die einen default Wert haben"
   ]
  },
  {
   "cell_type": "code",
   "execution_count": null,
   "id": "5f492cb1",
   "metadata": {},
   "outputs": [],
   "source": [
    "def create_dataframe(sensor_id, fromDate=\"2025-04-10T00:00:00Z\", toDate=\"2025-04-24T00:00:00Z\"):\n",
    "    url = API_URL_FORMAT_SENSOR.format(sensebox_id=SENSEBOX_ID, sensor_id=sensor_id, fromDate=fromDate, toDate=toDate)\n",
    "    \n",
    "    status_code = requests.get(url).status_code\n",
    "    assert status_code == 200, f\"Failed fetching data from api {status_code}\"\n",
    "    \n",
    "    data = requests.get(url).json()\n",
    "    return pd.DataFrame(data)\n"
   ]
  },
  {
   "cell_type": "code",
   "execution_count": 14,
   "id": "6ca1bf19",
   "metadata": {},
   "outputs": [
    {
     "data": {
      "text/html": [
       "<div>\n",
       "<style scoped>\n",
       "    .dataframe tbody tr th:only-of-type {\n",
       "        vertical-align: middle;\n",
       "    }\n",
       "\n",
       "    .dataframe tbody tr th {\n",
       "        vertical-align: top;\n",
       "    }\n",
       "\n",
       "    .dataframe thead th {\n",
       "        text-align: right;\n",
       "    }\n",
       "</style>\n",
       "<table border=\"1\" class=\"dataframe\">\n",
       "  <thead>\n",
       "    <tr style=\"text-align: right;\">\n",
       "      <th></th>\n",
       "      <th>location</th>\n",
       "      <th>createdAt</th>\n",
       "      <th>value</th>\n",
       "    </tr>\n",
       "  </thead>\n",
       "  <tbody>\n",
       "    <tr>\n",
       "      <th>0</th>\n",
       "      <td>[-48.480915, -1.299151]</td>\n",
       "      <td>2025-04-23T23:59:26.693Z</td>\n",
       "      <td>96.27</td>\n",
       "    </tr>\n",
       "    <tr>\n",
       "      <th>1</th>\n",
       "      <td>[-48.480915, -1.299151]</td>\n",
       "      <td>2025-04-23T23:58:26.555Z</td>\n",
       "      <td>96.96</td>\n",
       "    </tr>\n",
       "    <tr>\n",
       "      <th>2</th>\n",
       "      <td>[-48.480915, -1.299151]</td>\n",
       "      <td>2025-04-23T23:57:26.346Z</td>\n",
       "      <td>96.56</td>\n",
       "    </tr>\n",
       "    <tr>\n",
       "      <th>3</th>\n",
       "      <td>[-48.480915, -1.299151]</td>\n",
       "      <td>2025-04-23T23:56:25.902Z</td>\n",
       "      <td>96.56</td>\n",
       "    </tr>\n",
       "    <tr>\n",
       "      <th>4</th>\n",
       "      <td>[-48.480915, -1.299151]</td>\n",
       "      <td>2025-04-23T23:55:25.714Z</td>\n",
       "      <td>96.47</td>\n",
       "    </tr>\n",
       "    <tr>\n",
       "      <th>...</th>\n",
       "      <td>...</td>\n",
       "      <td>...</td>\n",
       "      <td>...</td>\n",
       "    </tr>\n",
       "    <tr>\n",
       "      <th>9995</th>\n",
       "      <td>[-48.480915, -1.299151]</td>\n",
       "      <td>2025-04-16T22:18:29.056Z</td>\n",
       "      <td>97.71</td>\n",
       "    </tr>\n",
       "    <tr>\n",
       "      <th>9996</th>\n",
       "      <td>[-48.480915, -1.299151]</td>\n",
       "      <td>2025-04-16T22:17:29.008Z</td>\n",
       "      <td>97.75</td>\n",
       "    </tr>\n",
       "    <tr>\n",
       "      <th>9997</th>\n",
       "      <td>[-48.480915, -1.299151]</td>\n",
       "      <td>2025-04-16T22:16:35.293Z</td>\n",
       "      <td>97.41</td>\n",
       "    </tr>\n",
       "    <tr>\n",
       "      <th>9998</th>\n",
       "      <td>[-48.480915, -1.299151]</td>\n",
       "      <td>2025-04-16T22:15:28.203Z</td>\n",
       "      <td>97.55</td>\n",
       "    </tr>\n",
       "    <tr>\n",
       "      <th>9999</th>\n",
       "      <td>[-48.480915, -1.299151]</td>\n",
       "      <td>2025-04-16T22:14:28.100Z</td>\n",
       "      <td>97.41</td>\n",
       "    </tr>\n",
       "  </tbody>\n",
       "</table>\n",
       "<p>10000 rows × 3 columns</p>\n",
       "</div>"
      ],
      "text/plain": [
       "                     location                 createdAt  value\n",
       "0     [-48.480915, -1.299151]  2025-04-23T23:59:26.693Z  96.27\n",
       "1     [-48.480915, -1.299151]  2025-04-23T23:58:26.555Z  96.96\n",
       "2     [-48.480915, -1.299151]  2025-04-23T23:57:26.346Z  96.56\n",
       "3     [-48.480915, -1.299151]  2025-04-23T23:56:25.902Z  96.56\n",
       "4     [-48.480915, -1.299151]  2025-04-23T23:55:25.714Z  96.47\n",
       "...                       ...                       ...    ...\n",
       "9995  [-48.480915, -1.299151]  2025-04-16T22:18:29.056Z  97.71\n",
       "9996  [-48.480915, -1.299151]  2025-04-16T22:17:29.008Z  97.75\n",
       "9997  [-48.480915, -1.299151]  2025-04-16T22:16:35.293Z  97.41\n",
       "9998  [-48.480915, -1.299151]  2025-04-16T22:15:28.203Z  97.55\n",
       "9999  [-48.480915, -1.299151]  2025-04-16T22:14:28.100Z  97.41\n",
       "\n",
       "[10000 rows x 3 columns]"
      ]
     },
     "execution_count": 14,
     "metadata": {},
     "output_type": "execute_result"
    }
   ],
   "source": [
    "df = create_dataframe(sensor_id=get_sensor_names_ids()[\"rel_Luftfeuchte\"])\n",
    "df\n"
   ]
  }
 ],
 "metadata": {
  "kernelspec": {
   "display_name": "Python 3",
   "language": "python",
   "name": "python3"
  },
  "language_info": {
   "codemirror_mode": {
    "name": "ipython",
    "version": 3
   },
   "file_extension": ".py",
   "mimetype": "text/x-python",
   "name": "python",
   "nbconvert_exporter": "python",
   "pygments_lexer": "ipython3",
   "version": "3.12.10"
  }
 },
 "nbformat": 4,
 "nbformat_minor": 5
}
