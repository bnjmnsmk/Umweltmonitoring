{
 "cells": [
  {
   "cell_type": "code",
   "execution_count": 1,
   "id": "60d99ee7",
   "metadata": {},
   "outputs": [],
   "source": [
    "import pandas as pd\n",
    "import numpy as np\n",
    "import requests\n",
    "import json\n",
    "import matplotlib.pyplot as plt\n",
    "from datetime import datetime, timedelta\n",
    "from sklearn.ensemble import RandomForestRegressor\n",
    "from sklearn.multioutput import MultiOutputRegressor\n",
    "from sklearn.model_selection import train_test_split\n",
    "from sklearn.metrics import mean_absolute_error, r2_score, mean_squared_error\n",
    "from sklearn.impute import SimpleImputer\n",
    "import plotly.graph_objs as go\n",
    "import dash\n",
    "from dash import dcc, html\n",
    "from dash.dependencies import Input, Output\n",
    "import requests\n",
    "import plotly.express as px\n",
    "from datetime import timedelta"
   ]
  },
  {
   "cell_type": "code",
   "execution_count": 2,
   "id": "5ec53c24",
   "metadata": {},
   "outputs": [],
   "source": [
    "# Konstante\n",
    "SENSEBOX_ID=\"6793f4e4c326f20007c34dd2\"\n",
    "API_URL_FORMAT_BOX=\"https://api.opensensemap.org/boxes/{sensebox_id}?format={response_format}\"\n",
    "API_URL_FORMAT_SENSOR=\"https://api.opensensemap.org/boxes/{sensebox_id}/data/{sensor_id}?from-date={fromDate}&to-date={toDate}&download=true&format=json\"\n",
    "\n",
    "# Ein dict erzeugen mit {sensor name : sensor id} und ausgeben lassen\n",
    "def get_sensor_names_ids():\n",
    "    url = API_URL_FORMAT_BOX.format(sensebox_id=SENSEBOX_ID,response_format=\"json\")\n",
    "    status_code = requests.get(url).status_code\n",
    "    assert status_code , f\"Failed fetching data from api {status_code}\"\n",
    "    \n",
    "    sensors = requests.get(url).json().get(\"sensors\")\n",
    "    sensor_name_id = {}\n",
    "    for sensor in sensors:\n",
    "        name = sensor.get('title').replace(\" \",\"\").replace(\".\",\"_\").replace(\"-\",\"_\")\n",
    "        _id = sensor.get('_id')\n",
    "        sensor_name_id.update({name : _id})\n",
    "    return sensor_name_id"
   ]
  },
  {
   "cell_type": "markdown",
   "id": "507d969c",
   "metadata": {},
   "source": [
    "### So kann man die namen und ids als eine Liste haben"
   ]
  },
  {
   "cell_type": "code",
   "execution_count": 3,
   "id": "1f6240cc",
   "metadata": {},
   "outputs": [
    {
     "data": {
      "text/plain": [
       "(dict_keys(['Temperatur', 'rel_Luftfeuchte', 'Beleuchtungsstärke', 'UV_Intensität', 'PM1', 'PM2_5', 'PM4', 'PM10']),\n",
       " dict_values(['6793f4e4c326f20007c34dd3', '6793f4e4c326f20007c34dd4', '6793f4e4c326f20007c34dd5', '6793f4e4c326f20007c34dd6', '6793f4e4c326f20007c34dd7', '6793f4e4c326f20007c34dd8', '6793f4e4c326f20007c34dd9', '6793f4e4c326f20007c34dda']))"
      ]
     },
     "execution_count": 3,
     "metadata": {},
     "output_type": "execute_result"
    }
   ],
   "source": [
    "get_sensor_names_ids().keys(), get_sensor_names_ids().values()"
   ]
  },
  {
   "cell_type": "markdown",
   "id": "a683b81d",
   "metadata": {},
   "source": [
    "### Dict Ausgabe von der Funktion"
   ]
  },
  {
   "cell_type": "code",
   "execution_count": 4,
   "id": "5dce0a9a",
   "metadata": {},
   "outputs": [
    {
     "data": {
      "text/plain": [
       "{'Temperatur': '6793f4e4c326f20007c34dd3',\n",
       " 'rel_Luftfeuchte': '6793f4e4c326f20007c34dd4',\n",
       " 'Beleuchtungsstärke': '6793f4e4c326f20007c34dd5',\n",
       " 'UV_Intensität': '6793f4e4c326f20007c34dd6',\n",
       " 'PM1': '6793f4e4c326f20007c34dd7',\n",
       " 'PM2_5': '6793f4e4c326f20007c34dd8',\n",
       " 'PM4': '6793f4e4c326f20007c34dd9',\n",
       " 'PM10': '6793f4e4c326f20007c34dda'}"
      ]
     },
     "execution_count": 4,
     "metadata": {},
     "output_type": "execute_result"
    }
   ],
   "source": [
    "get_sensor_names_ids()"
   ]
  },
  {
   "cell_type": "markdown",
   "id": "fa9f03f7",
   "metadata": {},
   "source": [
    "### So kann man auf die einzelne Namen zugreifen"
   ]
  },
  {
   "cell_type": "code",
   "execution_count": 5,
   "id": "6d58c4a8",
   "metadata": {},
   "outputs": [
    {
     "data": {
      "text/plain": [
       "'6793f4e4c326f20007c34dd3'"
      ]
     },
     "execution_count": 5,
     "metadata": {},
     "output_type": "execute_result"
    }
   ],
   "source": [
    "sensor_id = get_sensor_names_ids()[\"Temperatur\"]\n",
    "sensor_id"
   ]
  },
  {
   "cell_type": "markdown",
   "id": "65517691",
   "metadata": {},
   "source": [
    "### create_dataframe function mit inputs sensor_id und from- und toDate die einen default Wert haben"
   ]
  },
  {
   "cell_type": "code",
   "execution_count": 6,
   "id": "5f492cb1",
   "metadata": {},
   "outputs": [],
   "source": [
    "def create_dataframe(days_back=100):\n",
    "    sensor_ids = get_sensor_names_ids()\n",
    "    end_date = datetime.utcnow()\n",
    "    start_date = end_date - timedelta(days=days_back)\n",
    "\n",
    "    df_all = pd.DataFrame()\n",
    "\n",
    "    for name, sensor_id in sensor_ids.items():\n",
    "        url = API_URL_FORMAT_SENSOR.format(\n",
    "            sensebox_id=SENSEBOX_ID,\n",
    "            sensor_id=sensor_id,\n",
    "            fromDate=start_date.isoformat() + \"Z\",\n",
    "            toDate=end_date.isoformat() + \"Z\"\n",
    "        )\n",
    "        response = requests.get(url)\n",
    "        if response.status_code != 200:\n",
    "            print(f\"Fehler beim Abrufen von {name}: {response.status_code}\")\n",
    "            continue\n",
    "\n",
    "        data = response.json()\n",
    "        if not data:\n",
    "            print(f\"Keine Daten für {name}\")\n",
    "            continue\n",
    "\n",
    "        df_sensor = pd.DataFrame(data)\n",
    "        df_sensor[\"createdAt\"] = pd.to_datetime(df_sensor[\"createdAt\"])\n",
    "        df_sensor = df_sensor[[\"createdAt\", \"value\"]].rename(columns={\"value\": name})\n",
    "        df_sensor.set_index(\"createdAt\", inplace=True)\n",
    "\n",
    "        df_all = df_all.join(df_sensor, how=\"outer\")\n",
    "\n",
    "    return df_all.sort_index()"
   ]
  },
  {
   "cell_type": "code",
   "execution_count": 7,
   "id": "6ca1bf19",
   "metadata": {},
   "outputs": [],
   "source": [
    "#data = create_dataframe(sensor_id=get_sensor_names_ids()[\"Temperatur\"])"
   ]
  },
  {
   "cell_type": "code",
   "execution_count": 8,
   "id": "e9a99ece-cb1a-4127-bddc-c66eeaf88020",
   "metadata": {},
   "outputs": [],
   "source": [
    "#data"
   ]
  },
  {
   "cell_type": "code",
   "execution_count": 9,
   "id": "ce18ad5d-9bf6-4226-bc69-1689e0b24452",
   "metadata": {},
   "outputs": [],
   "source": [
    "df = create_dataframe()"
   ]
  },
  {
   "cell_type": "code",
   "execution_count": 10,
   "id": "b1c828bb-156e-42c8-862b-a3de7ea9b2b4",
   "metadata": {},
   "outputs": [
    {
     "name": "stdout",
     "output_type": "stream",
     "text": [
      "<class 'pandas.core.frame.DataFrame'>\n",
      "DatetimeIndex: 10000 entries, 2025-06-19 19:08:36.371000+00:00 to 2025-06-26 22:26:19.018000+00:00\n",
      "Data columns (total 8 columns):\n",
      " #   Column              Non-Null Count  Dtype \n",
      "---  ------              --------------  ----- \n",
      " 0   Temperatur          10000 non-null  object\n",
      " 1   rel_Luftfeuchte     10000 non-null  object\n",
      " 2   Beleuchtungsstärke  10000 non-null  object\n",
      " 3   UV_Intensität       10000 non-null  object\n",
      " 4   PM1                 10000 non-null  object\n",
      " 5   PM2_5               10000 non-null  object\n",
      " 6   PM4                 10000 non-null  object\n",
      " 7   PM10                10000 non-null  object\n",
      "dtypes: object(8)\n",
      "memory usage: 703.1+ KB\n"
     ]
    }
   ],
   "source": [
    "df.info()"
   ]
  },
  {
   "cell_type": "code",
   "execution_count": 11,
   "id": "2aab1a01-f3d7-4919-8b41-ae5fd3ce7e93",
   "metadata": {},
   "outputs": [
    {
     "data": {
      "text/html": [
       "<div>\n",
       "<style scoped>\n",
       "    .dataframe tbody tr th:only-of-type {\n",
       "        vertical-align: middle;\n",
       "    }\n",
       "\n",
       "    .dataframe tbody tr th {\n",
       "        vertical-align: top;\n",
       "    }\n",
       "\n",
       "    .dataframe thead th {\n",
       "        text-align: right;\n",
       "    }\n",
       "</style>\n",
       "<table border=\"1\" class=\"dataframe\">\n",
       "  <thead>\n",
       "    <tr style=\"text-align: right;\">\n",
       "      <th></th>\n",
       "      <th>Temperatur</th>\n",
       "      <th>rel_Luftfeuchte</th>\n",
       "      <th>Beleuchtungsstärke</th>\n",
       "      <th>UV_Intensität</th>\n",
       "      <th>PM1</th>\n",
       "      <th>PM2_5</th>\n",
       "      <th>PM4</th>\n",
       "      <th>PM10</th>\n",
       "    </tr>\n",
       "    <tr>\n",
       "      <th>createdAt</th>\n",
       "      <th></th>\n",
       "      <th></th>\n",
       "      <th></th>\n",
       "      <th></th>\n",
       "      <th></th>\n",
       "      <th></th>\n",
       "      <th></th>\n",
       "      <th></th>\n",
       "    </tr>\n",
       "  </thead>\n",
       "  <tbody>\n",
       "    <tr>\n",
       "      <th>2025-06-19 19:08:36.371000+00:00</th>\n",
       "      <td>27.68</td>\n",
       "      <td>94.70</td>\n",
       "      <td>7.00</td>\n",
       "      <td>0.00</td>\n",
       "      <td>227.03</td>\n",
       "      <td>240.08</td>\n",
       "      <td>240.08</td>\n",
       "      <td>240.08</td>\n",
       "    </tr>\n",
       "    <tr>\n",
       "      <th>2025-06-19 19:09:36.371000+00:00</th>\n",
       "      <td>27.68</td>\n",
       "      <td>94.59</td>\n",
       "      <td>7.00</td>\n",
       "      <td>0.00</td>\n",
       "      <td>229.90</td>\n",
       "      <td>243.11</td>\n",
       "      <td>243.11</td>\n",
       "      <td>243.11</td>\n",
       "    </tr>\n",
       "    <tr>\n",
       "      <th>2025-06-19 19:10:33.696000+00:00</th>\n",
       "      <td>27.63</td>\n",
       "      <td>94.70</td>\n",
       "      <td>7.00</td>\n",
       "      <td>0.00</td>\n",
       "      <td>232.99</td>\n",
       "      <td>246.38</td>\n",
       "      <td>246.38</td>\n",
       "      <td>246.38</td>\n",
       "    </tr>\n",
       "    <tr>\n",
       "      <th>2025-06-19 19:11:34.036000+00:00</th>\n",
       "      <td>27.69</td>\n",
       "      <td>94.79</td>\n",
       "      <td>7.00</td>\n",
       "      <td>0.00</td>\n",
       "      <td>244.49</td>\n",
       "      <td>258.53</td>\n",
       "      <td>258.53</td>\n",
       "      <td>258.53</td>\n",
       "    </tr>\n",
       "    <tr>\n",
       "      <th>2025-06-19 19:12:37.268000+00:00</th>\n",
       "      <td>27.62</td>\n",
       "      <td>94.59</td>\n",
       "      <td>6.00</td>\n",
       "      <td>0.00</td>\n",
       "      <td>226.22</td>\n",
       "      <td>239.22</td>\n",
       "      <td>239.22</td>\n",
       "      <td>239.22</td>\n",
       "    </tr>\n",
       "    <tr>\n",
       "      <th>...</th>\n",
       "      <td>...</td>\n",
       "      <td>...</td>\n",
       "      <td>...</td>\n",
       "      <td>...</td>\n",
       "      <td>...</td>\n",
       "      <td>...</td>\n",
       "      <td>...</td>\n",
       "      <td>...</td>\n",
       "    </tr>\n",
       "    <tr>\n",
       "      <th>2025-06-26 22:22:17.987000+00:00</th>\n",
       "      <td>27.81</td>\n",
       "      <td>93.66</td>\n",
       "      <td>0.00</td>\n",
       "      <td>0.00</td>\n",
       "      <td>327.51</td>\n",
       "      <td>346.33</td>\n",
       "      <td>346.33</td>\n",
       "      <td>346.33</td>\n",
       "    </tr>\n",
       "    <tr>\n",
       "      <th>2025-06-26 22:23:18.372000+00:00</th>\n",
       "      <td>27.88</td>\n",
       "      <td>93.66</td>\n",
       "      <td>0.00</td>\n",
       "      <td>0.00</td>\n",
       "      <td>337.26</td>\n",
       "      <td>356.64</td>\n",
       "      <td>356.64</td>\n",
       "      <td>356.64</td>\n",
       "    </tr>\n",
       "    <tr>\n",
       "      <th>2025-06-26 22:24:18.546000+00:00</th>\n",
       "      <td>27.80</td>\n",
       "      <td>93.56</td>\n",
       "      <td>0.00</td>\n",
       "      <td>0.00</td>\n",
       "      <td>329.22</td>\n",
       "      <td>348.13</td>\n",
       "      <td>348.13</td>\n",
       "      <td>348.13</td>\n",
       "    </tr>\n",
       "    <tr>\n",
       "      <th>2025-06-26 22:25:18.920000+00:00</th>\n",
       "      <td>27.86</td>\n",
       "      <td>94.06</td>\n",
       "      <td>0.00</td>\n",
       "      <td>0.00</td>\n",
       "      <td>325.70</td>\n",
       "      <td>344.41</td>\n",
       "      <td>344.41</td>\n",
       "      <td>344.41</td>\n",
       "    </tr>\n",
       "    <tr>\n",
       "      <th>2025-06-26 22:26:19.018000+00:00</th>\n",
       "      <td>27.81</td>\n",
       "      <td>93.96</td>\n",
       "      <td>0.00</td>\n",
       "      <td>0.00</td>\n",
       "      <td>326.39</td>\n",
       "      <td>345.14</td>\n",
       "      <td>345.14</td>\n",
       "      <td>345.14</td>\n",
       "    </tr>\n",
       "  </tbody>\n",
       "</table>\n",
       "<p>10000 rows × 8 columns</p>\n",
       "</div>"
      ],
      "text/plain": [
       "                                 Temperatur rel_Luftfeuchte  \\\n",
       "createdAt                                                     \n",
       "2025-06-19 19:08:36.371000+00:00      27.68           94.70   \n",
       "2025-06-19 19:09:36.371000+00:00      27.68           94.59   \n",
       "2025-06-19 19:10:33.696000+00:00      27.63           94.70   \n",
       "2025-06-19 19:11:34.036000+00:00      27.69           94.79   \n",
       "2025-06-19 19:12:37.268000+00:00      27.62           94.59   \n",
       "...                                     ...             ...   \n",
       "2025-06-26 22:22:17.987000+00:00      27.81           93.66   \n",
       "2025-06-26 22:23:18.372000+00:00      27.88           93.66   \n",
       "2025-06-26 22:24:18.546000+00:00      27.80           93.56   \n",
       "2025-06-26 22:25:18.920000+00:00      27.86           94.06   \n",
       "2025-06-26 22:26:19.018000+00:00      27.81           93.96   \n",
       "\n",
       "                                 Beleuchtungsstärke UV_Intensität     PM1  \\\n",
       "createdAt                                                                   \n",
       "2025-06-19 19:08:36.371000+00:00               7.00          0.00  227.03   \n",
       "2025-06-19 19:09:36.371000+00:00               7.00          0.00  229.90   \n",
       "2025-06-19 19:10:33.696000+00:00               7.00          0.00  232.99   \n",
       "2025-06-19 19:11:34.036000+00:00               7.00          0.00  244.49   \n",
       "2025-06-19 19:12:37.268000+00:00               6.00          0.00  226.22   \n",
       "...                                             ...           ...     ...   \n",
       "2025-06-26 22:22:17.987000+00:00               0.00          0.00  327.51   \n",
       "2025-06-26 22:23:18.372000+00:00               0.00          0.00  337.26   \n",
       "2025-06-26 22:24:18.546000+00:00               0.00          0.00  329.22   \n",
       "2025-06-26 22:25:18.920000+00:00               0.00          0.00  325.70   \n",
       "2025-06-26 22:26:19.018000+00:00               0.00          0.00  326.39   \n",
       "\n",
       "                                   PM2_5     PM4    PM10  \n",
       "createdAt                                                 \n",
       "2025-06-19 19:08:36.371000+00:00  240.08  240.08  240.08  \n",
       "2025-06-19 19:09:36.371000+00:00  243.11  243.11  243.11  \n",
       "2025-06-19 19:10:33.696000+00:00  246.38  246.38  246.38  \n",
       "2025-06-19 19:11:34.036000+00:00  258.53  258.53  258.53  \n",
       "2025-06-19 19:12:37.268000+00:00  239.22  239.22  239.22  \n",
       "...                                  ...     ...     ...  \n",
       "2025-06-26 22:22:17.987000+00:00  346.33  346.33  346.33  \n",
       "2025-06-26 22:23:18.372000+00:00  356.64  356.64  356.64  \n",
       "2025-06-26 22:24:18.546000+00:00  348.13  348.13  348.13  \n",
       "2025-06-26 22:25:18.920000+00:00  344.41  344.41  344.41  \n",
       "2025-06-26 22:26:19.018000+00:00  345.14  345.14  345.14  \n",
       "\n",
       "[10000 rows x 8 columns]"
      ]
     },
     "execution_count": 11,
     "metadata": {},
     "output_type": "execute_result"
    }
   ],
   "source": [
    "df"
   ]
  },
  {
   "cell_type": "markdown",
   "id": "2308db1c",
   "metadata": {},
   "source": [
    "## Temperaturvorhersage für 48 Stunden:"
   ]
  },
  {
   "cell_type": "code",
   "execution_count": 12,
   "id": "2a7fae7b",
   "metadata": {},
   "outputs": [
    {
     "data": {
      "image/png": "[encoded data removed]",
      "text/plain": [
       "<Figure size 1200x500 with 1 Axes>"
      ]
     },
     "metadata": {},
     "output_type": "display_data"
    }
   ],
   "source": [
    "\n",
    "# Sensebox speichert created_at als Index. Wir brauchen diesen aber als Spalte um die Zeitreihe zu verwenden\n",
    "df = df.reset_index()\n",
    "df['createdAt'] = pd.to_datetime(df['createdAt'])\n",
    "\n",
    "# Ebenfalls speichert die Sensebox alle Variablen als Objekte. So können wir keine Aggregationen oder ähnliches anwenden. Deswegen\n",
    "for col in df.columns:\n",
    "    if col != 'createdAt': #created_at ist bereits oben als Datetime gelistet\n",
    "        df[col] = pd.to_numeric(df[col], errors='coerce')\n",
    "\n",
    "# Wir setzen created_at jetzt gewollt als Index, damit wir die Daten stündlich resamplen können\n",
    "df.set_index('createdAt', inplace=True)\n",
    "\n",
    "# Stündliches resampling\n",
    "df_hourly = df.resample('1h').mean().dropna().reset_index()\n",
    "\n",
    "# Zeitmerkmale für zusätzliche erzeugen\n",
    "df_hourly['hour'] = df_hourly['createdAt'].dt.hour\n",
    "df_hourly['dayofweek'] = df_hourly['createdAt'].dt.dayofweek\n",
    "\n",
    "# 48 Zielspalten erzeugen, damit wir für 48h die Temperatur vorhersagen können\n",
    "for i in range(1, 49):\n",
    "    df_hourly[f'Temperatur_t+{i}'] = df_hourly['Temperatur'].shift(-i)\n",
    "\n",
    "# Zeilen bei denen einer dieser Zielwerte fehlt müssen gedropt werden, sonst können wir keine Vorhersagen machen\n",
    "df_multi = df_hourly.dropna(subset=[f'Temperatur_t+{i}' for i in range(1, 49)]).copy()\n",
    "\n",
    "# Feature definieren\n",
    "feature_cols = ['Temperatur', 'rel_Luftfeuchte', 'Beleuchtungsstärke', 'UV_Intensität', 'hour', 'dayofweek', 'PM1', 'PM2_5', 'PM4', 'PM10']\n",
    "\n",
    "#Aufteilung in Feature und Label\n",
    "X_multi = df_multi[feature_cols]\n",
    "y_multi = df_multi[[f'Temperatur_t+{i}' for i in range(1, 49)]]\n",
    "\n",
    "# Split in Trainings und Testdaten. 80% Trainingsdaten und 20% Testdaten\n",
    "split_index = int(len(df_multi) * 0.8)\n",
    "X_train_multi, X_test_multi = X_multi[:split_index], X_multi[split_index:]\n",
    "y_train_multi, y_test_multi = y_multi[:split_index], y_multi[split_index:]\n",
    "\n",
    "\n",
    "# Wir trainieren unser Modell für die 48h, es werden intern 48 unabhängige Forest trainiert, aber mit den gleichen Feature\n",
    "\n",
    "multi_model = MultiOutputRegressor(RandomForestRegressor(n_estimators=100, random_state=42))\n",
    "multi_model.fit(X_train_multi, y_train_multi)\n",
    "\n",
    "# Vorhersage machen\n",
    "y_pred_multi = multi_model.predict(X_test_multi)\n",
    "\n",
    "# Visualisierung der vorhergesagten Daten mit den tatsächlichen Daten\n",
    "\n",
    "plt.figure(figsize=(12, 5))\n",
    "plt.plot(range(1, 49), y_test_multi.iloc[0], label='True')\n",
    "plt.plot(range(1, 49), y_pred_multi[0], label='Prediction')\n",
    "plt.xlabel(\"Forecast Horizon (Stunden)\")\n",
    "plt.ylabel(\"Temperatur\")\n",
    "plt.title(\"48h Temperaturvorhersage (erstes Testsample, stündlich aggregiert)\")\n",
    "plt.legend()\n",
    "plt.grid()\n",
    "plt.show()\n"
   ]
  },
  {
   "cell_type": "markdown",
   "id": "31d6712e-fa20-4119-bcad-b38232ebc347",
   "metadata": {},
   "source": [
    "#### Kennzahlen unseres Models ausgeben:"
   ]
  },
  {
   "cell_type": "code",
   "execution_count": 13,
   "id": "b799cb7f-db8b-41f3-8766-644796ebea64",
   "metadata": {},
   "outputs": [
    {
     "name": "stdout",
     "output_type": "stream",
     "text": [
      "Gesamte Modellgüte (über alle 48 Forecast-Stunden):\n",
      "MAE:  1.255\n",
      "RMSE: 1.687\n",
      "R²:   0.654\n"
     ]
    }
   ],
   "source": [
    "# Gesamte Metriken berechnen (alle 48 Stunden auf einmal)\n",
    "mae_total = mean_absolute_error(y_test_multi, y_pred_multi)\n",
    "rmse_total = mean_squared_error(y_test_multi, y_pred_multi, squared=False)\n",
    "r2_total = r2_score(y_test_multi, y_pred_multi)\n",
    "\n",
    "print(f\"Gesamte Modellgüte (über alle 48 Forecast-Stunden):\")\n",
    "print(f\"MAE:  {mae_total:.3f}\")\n",
    "print(f\"RMSE: {rmse_total:.3f}\")\n",
    "print(f\"R²:   {r2_total:.3f}\")\n"
   ]
  },
  {
   "cell_type": "markdown",
   "id": "7d5da62a-609e-44c1-950a-d5201a1489f7",
   "metadata": {},
   "source": [
    "MAE, RMSE sind ok. R² Wert leider sehr hoch, das liegt aber wahrscheinlich an der sehr kleinen Datenmenge"
   ]
  },
  {
   "cell_type": "code",
   "execution_count": 14,
   "id": "25ad80b4-0284-4b88-b26a-4b808f46c61a",
   "metadata": {},
   "outputs": [
    {
     "data": {
      "image/png": "[encoded data removed]",
      "text/plain": [
       "<Figure size 1000x500 with 1 Axes>"
      ]
     },
     "metadata": {},
     "output_type": "display_data"
    }
   ],
   "source": [
    "# Feature Importances für die erste Stunde\n",
    "\n",
    "importances = multi_model.estimators_[0].feature_importances_\n",
    "features = X_multi.columns\n",
    "\n",
    "# Visualisierung der Feautureimportance\n",
    "import matplotlib.pyplot as plt\n",
    "plt.figure(figsize=(10, 5))\n",
    "plt.barh(features, importances)\n",
    "plt.xlabel(\"Feature Importance\")\n",
    "plt.title(\"Feature Importance für Temperatur_t+1\")\n",
    "plt.grid()\n",
    "plt.show()\n"
   ]
  },
  {
   "cell_type": "code",
   "execution_count": 15,
   "id": "02343af3-112b-43bf-b107-923dd66ea730",
   "metadata": {},
   "outputs": [
    {
     "data": {
      "image/png": "[encoded data removed]",
      "text/plain": [
       "<Figure size 1000x500 with 1 Axes>"
      ]
     },
     "metadata": {},
     "output_type": "display_data"
    }
   ],
   "source": [
    "# Mittlere Feature Importance über alle 48 Modelle\n",
    "importances_avg = np.mean([est.feature_importances_ for est in multi_model.estimators_], axis=0)\n",
    "\n",
    "#Visualisierung der Featureimportance\n",
    "plt.figure(figsize=(10, 5))\n",
    "plt.barh(features, importances_avg)\n",
    "plt.xlabel(\"Durchschnittliche Feature Importance\")\n",
    "plt.title(\"Durchschnittliche Feature Importance über alle 48 Stunden\")\n",
    "plt.grid()\n",
    "plt.show()\n"
   ]
  },
  {
   "cell_type": "code",
   "execution_count": 16,
   "id": "620c8690",
   "metadata": {},
   "outputs": [],
   "source": [
    "\n",
    "# 'createdAt' vom ersten Testsample aus df_multi nehmen\n",
    "forecast_start_time = df_multi.iloc[split_index]['createdAt'] + timedelta(days=3) #Datum der Vorhersage anpassen\n",
    "\n",
    "# Liste der 48 Stunden-Zeitpunkte erzeugen\n",
    "forecast_dates = [forecast_start_time + timedelta(hours=i) for i in range(1, 49)]\n",
    "\n",
    "# Die zugehörigen Vorhersagewerte für das erste Testsample\n",
    "forecast_values = y_pred_multi[0]"
   ]
  },
  {
   "cell_type": "code",
   "execution_count": 17,
   "id": "5514a015",
   "metadata": {},
   "outputs": [],
   "source": [
    "# senseBox ID\n",
    "SENSEBOX_ID = \"6793f4e4c326f20007c34dd2\"\n",
    "\n",
    "# Verfügbare Sensoren und ihre Titel\n",
    "SENSOR_TITLES = {\n",
    "    'temperature': 'Temperatur',\n",
    "    'humidity': 'rel. Luftfeuchte',\n",
    "    'illuminance': 'Beleuchtungsstärke',\n",
    "    'pm1': 'PM1',\n",
    "    'pm25': 'PM2.5',\n",
    "    'pm4': 'PM4',\n",
    "    'pm10': 'PM10'\n",
    "}"
   ]
  },
  {
   "cell_type": "code",
   "execution_count": 18,
   "id": "ed44b4da",
   "metadata": {},
   "outputs": [],
   "source": [
    "# Funktion: Sensor-IDs abrufen\n",
    "def get_sensor_ids(box_id):\n",
    "    url = f\"https://api.opensensemap.org/boxes/{box_id}\"\n",
    "    response = requests.get(url)\n",
    "    data = response.json()\n",
    "    sensor_ids = {}\n",
    "    for sensor in data.get('sensors', []):\n",
    "        title = sensor.get('title', '').lower()\n",
    "        for key, expected in SENSOR_TITLES.items():\n",
    "            if title == expected.lower():\n",
    "                sensor_ids[key] = sensor.get('_id')\n",
    "    return sensor_ids"
   ]
  },
  {
   "cell_type": "code",
   "execution_count": 19,
   "id": "ea6f224c",
   "metadata": {},
   "outputs": [],
   "source": [
    "# Funktion: Messdaten abrufen (letzte 7 Tage)\n",
    "def get_sensor_data(sensor_id):\n",
    "    from datetime import datetime, timedelta\n",
    "\n",
    "    seven_days_ago = (datetime.utcnow() - timedelta(days=7)).isoformat() + \"Z\"\n",
    "    url = f\"https://api.opensensemap.org/boxes/{SENSEBOX_ID}/data/{sensor_id}?format=json&from-date={seven_days_ago}\"\n",
    "    \n",
    "    response = requests.get(url)\n",
    "    data = response.json()\n",
    "    df = pd.DataFrame(data)\n",
    "    df['createdAt'] = pd.to_datetime(df['createdAt'])\n",
    "    df['value'] = pd.to_numeric(df['value'], errors='coerce')\n",
    "    return df"
   ]
  },
  {
   "cell_type": "code",
   "execution_count": 20,
   "id": "ba357799",
   "metadata": {},
   "outputs": [],
   "source": [
    "# Sensor-IDs initial laden\n",
    "sensor_ids = get_sensor_ids(SENSEBOX_ID)\n",
    "\n",
    "# Dash-App initialisieren\n",
    "app = dash.Dash(__name__)\n",
    "app.title = \"senseBox Dashboard\""
   ]
  },
  {
   "cell_type": "code",
   "execution_count": 21,
   "id": "c4fa97e0",
   "metadata": {},
   "outputs": [],
   "source": [
    "# Layout: zwei Grafiken (aktuelle Daten + leere Prognose) + Dropdown rechts\n",
    "app.layout = html.Div(\n",
    "    style={'display': 'flex', 'flexDirection': 'row', 'height': '100vh'},\n",
    "    children=[\n",
    "        # Linke Seite: zwei Grafiken übereinander\n",
    "        html.Div(\n",
    "    style={'flex': 1, 'display': 'flex', 'flexDirection': 'column'},\n",
    "    children=[\n",
    "        # Grafik für aktuelle Sensordaten\n",
    "        dcc.Graph(id='main-graph', style={'flex': 1}),\n",
    "\n",
    "        # Grafik für zukünftige (ML-)Daten\n",
    "        dcc.Graph(\n",
    "            id='forecast-graph',\n",
    "            figure={\n",
    "                'data': [\n",
    "                    go.Scatter(\n",
    "                        x=forecast_dates,\n",
    "                        y=forecast_values,\n",
    "                        mode='lines+markers',\n",
    "                        name='Vorhersage Temperatur'\n",
    "                    )\n",
    "                ],\n",
    "                'layout': {\n",
    "            'title': {\n",
    "                'text': '48h Temperaturvorhersage',\n",
    "                'x': 0.5,\n",
    "                'xanchor': 'center'\n",
    "            },\n",
    "            'xaxis': {'title': 'Zeit'},\n",
    "            'yaxis': {'title': 'Temperatur [°C]'},\n",
    "            'margin': {'l': 100, 'r': 20, 't': 40, 'b': 40}\n",
    "        }\n",
    "    },\n",
    "            style={'flex': 1}\n",
    "        )\n",
    "    ]\n",
    "),\n",
    "        # Rechte Seite: Dropdown-Menu zur Sensorauswahl\n",
    "        html.Div(\n",
    "            style={'width': '220px', 'padding': '10px'},\n",
    "            children=[\n",
    "                html.Label(\"Sensor auswählen:\"),\n",
    "                dcc.Dropdown(\n",
    "                    id='sensor-dropdown',\n",
    "                    options=[{'label': title, 'value': key} for key, title in SENSOR_TITLES.items()],\n",
    "                    value='temperature',\n",
    "                    clearable=False,\n",
    "                    style={'font-size': '16px'}\n",
    "                )\n",
    "            ]\n",
    "        ),\n",
    "        # Interval-Komponente bleibt unverändert\n",
    "        dcc.Interval(\n",
    "            id='interval-component',\n",
    "            interval=5*60*1000,  # alle 5 Minuten\n",
    "            n_intervals=0\n",
    "        )\n",
    "    ]\n",
    ")"
   ]
  },
  {
   "cell_type": "code",
   "execution_count": null,
   "id": "44dddc96",
   "metadata": {},
   "outputs": [],
   "source": []
  },
  {
   "cell_type": "code",
   "execution_count": 22,
   "id": "24025665",
   "metadata": {},
   "outputs": [],
   "source": [
    "#  Grafik basierend auf Auswahl + Intervall aktualisieren\n",
    "@app.callback(\n",
    "    Output('main-graph', 'figure'),\n",
    "    Input('sensor-dropdown', 'value'),\n",
    "    Input('interval-component', 'n_intervals')\n",
    ")\n",
    "\n",
    "def update_graph(selected_sensor, n):\n",
    "    sensor_id = sensor_ids.get(selected_sensor)\n",
    "    if sensor_id:\n",
    "        df = get_sensor_data(sensor_id)\n",
    "\n",
    "        # Ermitteln des zuletzt gemessenen Werts\n",
    "        latest_value = df['value'].iloc[-1] if not df.empty else None\n",
    "        latest_time = df['createdAt'].iloc[-1] if not df.empty else None\n",
    "\n",
    "        # Grafik erstellen (Linie oder Scatter)\n",
    "        if selected_sensor in ['pm1', 'pm25', 'pm4', 'pm10', 'illuminance']:\n",
    "            fig = px.scatter(df, x='createdAt', y='value', title=SENSOR_TITLES[selected_sensor])\n",
    "        else:\n",
    "            fig = px.line(df, x='createdAt', y='value', title=SENSOR_TITLES[selected_sensor])\n",
    "\n",
    "        # Layout-Anpassungen\n",
    "        fig.update_layout(\n",
    "            xaxis_title='Zeit',\n",
    "            yaxis_title=SENSOR_TITLES[selected_sensor],\n",
    "            margin={'l': 100, 'r': 20, 't': 40, 'b': 40},\n",
    "            title={'x': 0.5, 'xanchor': 'center'}\n",
    "        )\n",
    "        # Tick-Größen und Range-Selector Buttons\n",
    "        fig.update_yaxes(\n",
    "            title_font_size=18,\n",
    "            tickfont_size=16,\n",
    "            automargin=True\n",
    "        )\n",
    "        fig.update_xaxes(\n",
    "            tickfont_size=14,\n",
    "            rangeselector=dict(\n",
    "                buttons=[\n",
    "                    #dict(step='all', label='All'),\n",
    "                    dict(count=12, label='12h', step='hour', stepmode='backward'),\n",
    "                    dict(count=1, label='1d', step='day', stepmode='backward'),\n",
    "                    dict(count=7, label='7d', step='day', stepmode='backward')\n",
    "                ]\n",
    "            ),\n",
    "            rangeslider=dict(visible=False)\n",
    "        )\n",
    "\n",
    "        # Annotation: zuletzt gemessener Wert oben rechts\n",
    "        if latest_value is not None:\n",
    "            text = f\"Aktuell: {latest_value:.2f}\"\n",
    "            fig.add_annotation(\n",
    "                xref='paper', yref='paper',\n",
    "                x=1, y=1,\n",
    "                xanchor='right', yanchor='top',\n",
    "                text=text,\n",
    "                showarrow=False,\n",
    "                font=dict(size=14)\n",
    "            )\n",
    "    else:\n",
    "        # Fehlermeldung, falls Sensor nicht verfügbar\n",
    "        fig = px.scatter(title=f\"{SENSOR_TITLES.get(selected_sensor, 'Sensor')} nicht verfügbar\")\n",
    "        fig.update_layout(margin={'l': 100, 'r': 20, 't': 40, 'b': 40})\n",
    "\n",
    "    return fig"
   ]
  },
  {
   "cell_type": "code",
   "execution_count": 23,
   "id": "ee27969f",
   "metadata": {},
   "outputs": [
    {
     "data": {
      "text/html": [
       "\n",
       "        <iframe\n",
       "            width=\"100%\"\n",
       "            height=\"650\"\n",
       "            src=\"http://127.0.0.1:8050/\"\n",
       "            frameborder=\"0\"\n",
       "            allowfullscreen\n",
       "            \n",
       "        ></iframe>\n",
       "        "
      ],
      "text/plain": [
       "<IPython.lib.display.IFrame at 0x164b14f10>"
      ]
     },
     "metadata": {},
     "output_type": "display_data"
    }
   ],
   "source": [
    "# Server starten\n",
    "if __name__ == '__main__':\n",
    "    app.run(debug=True)"
   ]
  }
 ],
 "metadata": {
  "kernelspec": {
   "display_name": "Python 3 (ipykernel)",
   "language": "python",
   "name": "python3"
  },
  "language_info": {
   "codemirror_mode": {
    "name": "ipython",
    "version": 3
   },
   "file_extension": ".py",
   "mimetype": "text/x-python",
   "name": "python",
   "nbconvert_exporter": "python",
   "pygments_lexer": "ipython3",
   "version": "3.11.5"
  }
 },
 "nbformat": 4,
 "nbformat_minor": 5
}
