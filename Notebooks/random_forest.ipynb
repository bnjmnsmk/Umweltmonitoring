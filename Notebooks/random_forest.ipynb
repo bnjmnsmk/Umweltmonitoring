{
 "cells": [
  {
   "cell_type": "code",
   "execution_count": 2,
   "id": "60d99ee7",
   "metadata": {},
   "outputs": [],
   "source": [
    "import pandas as pd\n",
    "import numpy as np\n",
    "import requests\n",
    "import json\n",
    "from datetime import datetime, timedelta\n",
    "from sklearn.ensemble import RandomForestRegressor\n",
    "from sklearn.model_selection import train_test_split\n",
    "from sklearn.metrics import mean_absolute_error, r2_score\n",
    "from sklearn.impute import SimpleImputer"
   ]
  },
  {
   "cell_type": "code",
   "execution_count": 3,
   "id": "5ec53c24",
   "metadata": {},
   "outputs": [],
   "source": [
    "# Konstante\n",
    "SENSEBOX_ID=\"6793f4e4c326f20007c34dd2\"\n",
    "API_URL_FORMAT_BOX=\"https://api.opensensemap.org/boxes/{sensebox_id}?format={response_format}\"\n",
    "API_URL_FORMAT_SENSOR=\"https://api.opensensemap.org/boxes/{sensebox_id}/data/{sensor_id}?from-date={fromDate}&to-date={toDate}&download=true&format=json\"\n",
    "\n",
    "# Ein dict erzeugen mit {sensor name : sensor id} und ausgeben lassen\n",
    "def get_sensor_names_ids():\n",
    "    url = API_URL_FORMAT_BOX.format(sensebox_id=SENSEBOX_ID,response_format=\"json\")\n",
    "    status_code = requests.get(url).status_code\n",
    "    assert status_code , f\"Failed fetching data from api {status_code}\"\n",
    "    \n",
    "    sensors = requests.get(url).json().get(\"sensors\")\n",
    "    sensor_name_id = {}\n",
    "    for sensor in sensors:\n",
    "        name = sensor.get('title').replace(\" \",\"\").replace(\".\",\"_\").replace(\"-\",\"_\")\n",
    "        _id = sensor.get('_id')\n",
    "        sensor_name_id.update({name : _id})\n",
    "    return sensor_name_id"
   ]
  },
  {
   "cell_type": "markdown",
   "id": "507d969c",
   "metadata": {},
   "source": [
    "### So kann man die namen und ids als eine Liste haben"
   ]
  },
  {
   "cell_type": "code",
   "execution_count": 5,
   "id": "1f6240cc",
   "metadata": {},
   "outputs": [
    {
     "data": {
      "text/plain": [
       "(dict_keys(['Temperatur', 'rel_Luftfeuchte', 'Beleuchtungsstärke', 'UV_Intensität', 'PM1', 'PM2_5', 'PM4', 'PM10']),\n",
       " dict_values(['6793f4e4c326f20007c34dd3', '6793f4e4c326f20007c34dd4', '6793f4e4c326f20007c34dd5', '6793f4e4c326f20007c34dd6', '6793f4e4c326f20007c34dd7', '6793f4e4c326f20007c34dd8', '6793f4e4c326f20007c34dd9', '6793f4e4c326f20007c34dda']))"
      ]
     },
     "execution_count": 5,
     "metadata": {},
     "output_type": "execute_result"
    }
   ],
   "source": [
    "get_sensor_names_ids().keys(), get_sensor_names_ids().values()"
   ]
  },
  {
   "cell_type": "markdown",
   "id": "a683b81d",
   "metadata": {},
   "source": [
    "### Dict Ausgabe von der Funktion"
   ]
  },
  {
   "cell_type": "code",
   "execution_count": 7,
   "id": "5dce0a9a",
   "metadata": {},
   "outputs": [
    {
     "data": {
      "text/plain": [
       "{'Temperatur': '6793f4e4c326f20007c34dd3',\n",
       " 'rel_Luftfeuchte': '6793f4e4c326f20007c34dd4',\n",
       " 'Beleuchtungsstärke': '6793f4e4c326f20007c34dd5',\n",
       " 'UV_Intensität': '6793f4e4c326f20007c34dd6',\n",
       " 'PM1': '6793f4e4c326f20007c34dd7',\n",
       " 'PM2_5': '6793f4e4c326f20007c34dd8',\n",
       " 'PM4': '6793f4e4c326f20007c34dd9',\n",
       " 'PM10': '6793f4e4c326f20007c34dda'}"
      ]
     },
     "execution_count": 7,
     "metadata": {},
     "output_type": "execute_result"
    }
   ],
   "source": [
    "get_sensor_names_ids()"
   ]
  },
  {
   "cell_type": "markdown",
   "id": "fa9f03f7",
   "metadata": {},
   "source": [
    "### So kann man auf die einzelne Namen zugreifen"
   ]
  },
  {
   "cell_type": "code",
   "execution_count": 9,
   "id": "6d58c4a8",
   "metadata": {},
   "outputs": [
    {
     "data": {
      "text/plain": [
       "'6793f4e4c326f20007c34dd3'"
      ]
     },
     "execution_count": 9,
     "metadata": {},
     "output_type": "execute_result"
    }
   ],
   "source": [
    "sensor_id = get_sensor_names_ids()[\"Temperatur\"]\n",
    "sensor_id"
   ]
  },
  {
   "cell_type": "markdown",
   "id": "65517691",
   "metadata": {},
   "source": [
    "### create_dataframe function mit inputs sensor_id und from- und toDate die einen default Wert haben"
   ]
  },
  {
   "cell_type": "code",
   "execution_count": 11,
   "id": "5f492cb1",
   "metadata": {},
   "outputs": [],
   "source": [
    "def create_dataframe(days_back=100):\n",
    "    sensor_ids = get_sensor_names_ids()\n",
    "    end_date = datetime.utcnow()\n",
    "    start_date = end_date - timedelta(days=days_back)\n",
    "\n",
    "    df_all = pd.DataFrame()\n",
    "\n",
    "    for name, sensor_id in sensor_ids.items():\n",
    "        url = API_URL_FORMAT_SENSOR.format(\n",
    "            sensebox_id=SENSEBOX_ID,\n",
    "            sensor_id=sensor_id,\n",
    "            fromDate=start_date.isoformat() + \"Z\",\n",
    "            toDate=end_date.isoformat() + \"Z\"\n",
    "        )\n",
    "        response = requests.get(url)\n",
    "        if response.status_code != 200:\n",
    "            print(f\"Fehler beim Abrufen von {name}: {response.status_code}\")\n",
    "            continue\n",
    "\n",
    "        data = response.json()\n",
    "        if not data:\n",
    "            print(f\"Keine Daten für {name}\")\n",
    "            continue\n",
    "\n",
    "        df_sensor = pd.DataFrame(data)\n",
    "        df_sensor[\"createdAt\"] = pd.to_datetime(df_sensor[\"createdAt\"])\n",
    "        df_sensor = df_sensor[[\"createdAt\", \"value\"]].rename(columns={\"value\": name})\n",
    "        df_sensor.set_index(\"createdAt\", inplace=True)\n",
    "\n",
    "        df_all = df_all.join(df_sensor, how=\"outer\")\n",
    "\n",
    "    return df_all.sort_index()"
   ]
  },
  {
   "cell_type": "code",
   "execution_count": 12,
   "id": "6ca1bf19",
   "metadata": {},
   "outputs": [],
   "source": [
    "#data = create_dataframe(sensor_id=get_sensor_names_ids()[\"Temperatur\"])"
   ]
  },
  {
   "cell_type": "code",
   "execution_count": 13,
   "id": "e9a99ece-cb1a-4127-bddc-c66eeaf88020",
   "metadata": {},
   "outputs": [],
   "source": [
    "#data"
   ]
  },
  {
   "cell_type": "code",
   "execution_count": 14,
   "id": "ce18ad5d-9bf6-4226-bc69-1689e0b24452",
   "metadata": {},
   "outputs": [],
   "source": [
    "df = create_dataframe()"
   ]
  },
  {
   "cell_type": "code",
   "execution_count": 15,
   "id": "b1c828bb-156e-42c8-862b-a3de7ea9b2b4",
   "metadata": {},
   "outputs": [
    {
     "name": "stdout",
     "output_type": "stream",
     "text": [
      "<class 'pandas.core.frame.DataFrame'>\n",
      "DatetimeIndex: 10000 entries, 2025-05-16 16:01:15.663000+00:00 to 2025-05-24 16:08:29.394000+00:00\n",
      "Data columns (total 8 columns):\n",
      " #   Column              Non-Null Count  Dtype \n",
      "---  ------              --------------  ----- \n",
      " 0   Temperatur          10000 non-null  object\n",
      " 1   rel_Luftfeuchte     10000 non-null  object\n",
      " 2   Beleuchtungsstärke  10000 non-null  object\n",
      " 3   UV_Intensität       10000 non-null  object\n",
      " 4   PM1                 10000 non-null  object\n",
      " 5   PM2_5               10000 non-null  object\n",
      " 6   PM4                 10000 non-null  object\n",
      " 7   PM10                10000 non-null  object\n",
      "dtypes: object(8)\n",
      "memory usage: 703.1+ KB\n"
     ]
    }
   ],
   "source": [
    "df.info()"
   ]
  },
  {
   "cell_type": "markdown",
   "id": "a1c54478-aae3-4538-b76b-46130d3baec8",
   "metadata": {},
   "source": [
    "### Modelltraining für die Vorhersage der Temperatur"
   ]
  },
  {
   "cell_type": "code",
   "execution_count": 17,
   "id": "734699f7-a461-451b-9402-4cd2e32e30a2",
   "metadata": {},
   "outputs": [
    {
     "name": "stdout",
     "output_type": "stream",
     "text": [
      "MAE: 0.39\n",
      "R²: 0.96\n"
     ]
    }
   ],
   "source": [
    "target_column = \"Temperatur\"\n",
    "X = df.drop(columns=[target_column])\n",
    "y = df[target_column]\n",
    "\n",
    "# 2. Fehlende Werte auffüllen (z. B. mit Mittelwert)\n",
    "imputer = SimpleImputer(strategy=\"mean\")\n",
    "X_imputed = imputer.fit_transform(X)\n",
    "\n",
    "# 3. Split in Training und Test\n",
    "X_train, X_test, y_train, y_test = train_test_split(X_imputed, y, test_size=0.2, random_state=42)\n",
    "\n",
    "# 4. Modell trainieren\n",
    "model = RandomForestRegressor(n_estimators=100, random_state=42)\n",
    "model.fit(X_train, y_train)\n",
    "\n",
    "# 5. Vorhersagen\n",
    "y_pred = model.predict(X_test)\n",
    "\n",
    "# 6. Bewertung\n",
    "mae = mean_absolute_error(y_test, y_pred)\n",
    "r2 = r2_score(y_test, y_pred)\n",
    "print(f\"MAE: {mae:.2f}\")\n",
    "print(f\"R²: {r2:.2f}\")"
   ]
  },
  {
   "cell_type": "markdown",
   "id": "93210826-f67a-4f4b-aeee-731ed84cc9ad",
   "metadata": {},
   "source": [
    "Die Werte sind sehr sehr gut, sieht nach Overfitting aus. Aber sehen wir mal weiter"
   ]
  },
  {
   "cell_type": "code",
   "execution_count": 29,
   "id": "04209d01-f0fd-4e31-9ba4-c40e8fe0a2df",
   "metadata": {},
   "outputs": [
    {
     "data": {
      "image/png": "[encoded data removed]",
      "text/plain": [
       "<Figure size 640x480 with 1 Axes>"
      ]
     },
     "metadata": {},
     "output_type": "display_data"
    }
   ],
   "source": [
    "import matplotlib.pyplot as plt\n",
    "\n",
    "feature_names = X.columns\n",
    "importances = model.feature_importances_\n",
    "\n",
    "plt.barh(feature_names, importances)\n",
    "plt.xlabel(\"Wichtigkeit\")\n",
    "plt.title(\"Feature Importance (Random Forest)\")\n",
    "plt.show()"
   ]
  }
 ],
 "metadata": {
  "kernelspec": {
   "display_name": "Python 3 (ipykernel)",
   "language": "python",
   "name": "python3"
  },
  "language_info": {
   "codemirror_mode": {
    "name": "ipython",
    "version": 3
   },
   "file_extension": ".py",
   "mimetype": "text/x-python",
   "name": "python",
   "nbconvert_exporter": "python",
   "pygments_lexer": "ipython3",
   "version": "3.11.7"
  }
 },
 "nbformat": 4,
 "nbformat_minor": 5
}
