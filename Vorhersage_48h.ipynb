{
 "cells": [
  {
   "cell_type": "code",
   "execution_count": 69,
   "id": "60d99ee7",
   "metadata": {},
   "outputs": [],
   "source": [
    "import pandas as pd\n",
    "import numpy as np\n",
    "import requests\n",
    "import json\n",
    "import matplotlib.pyplot as plt\n",
    "from datetime import datetime, timedelta\n",
    "from sklearn.ensemble import RandomForestRegressor\n",
    "from sklearn.multioutput import MultiOutputRegressor\n",
    "from sklearn.model_selection import train_test_split\n",
    "from sklearn.metrics import mean_absolute_error, r2_score, mean_squared_error\n",
    "from sklearn.impute import SimpleImputer"
   ]
  },
  {
   "cell_type": "code",
   "execution_count": 7,
   "id": "5ec53c24",
   "metadata": {},
   "outputs": [],
   "source": [
    "# Konstante\n",
    "SENSEBOX_ID=\"6793f4e4c326f20007c34dd2\"\n",
    "API_URL_FORMAT_BOX=\"https://api.opensensemap.org/boxes/{sensebox_id}?format={response_format}\"\n",
    "API_URL_FORMAT_SENSOR=\"https://api.opensensemap.org/boxes/{sensebox_id}/data/{sensor_id}?from-date={fromDate}&to-date={toDate}&download=true&format=json\"\n",
    "\n",
    "# Ein dict erzeugen mit {sensor name : sensor id} und ausgeben lassen\n",
    "def get_sensor_names_ids():\n",
    "    url = API_URL_FORMAT_BOX.format(sensebox_id=SENSEBOX_ID,response_format=\"json\")\n",
    "    status_code = requests.get(url).status_code\n",
    "    assert status_code , f\"Failed fetching data from api {status_code}\"\n",
    "    \n",
    "    sensors = requests.get(url).json().get(\"sensors\")\n",
    "    sensor_name_id = {}\n",
    "    for sensor in sensors:\n",
    "        name = sensor.get('title').replace(\" \",\"\").replace(\".\",\"_\").replace(\"-\",\"_\")\n",
    "        _id = sensor.get('_id')\n",
    "        sensor_name_id.update({name : _id})\n",
    "    return sensor_name_id"
   ]
  },
  {
   "cell_type": "markdown",
   "id": "507d969c",
   "metadata": {},
   "source": [
    "### So kann man die namen und ids als eine Liste haben"
   ]
  },
  {
   "cell_type": "code",
   "execution_count": 4,
   "id": "1f6240cc",
   "metadata": {},
   "outputs": [
    {
     "data": {
      "text/plain": [
       "(dict_keys(['Temperatur', 'rel_Luftfeuchte', 'Beleuchtungsstärke', 'UV_Intensität', 'PM1', 'PM2_5', 'PM4', 'PM10']),\n",
       " dict_values(['6793f4e4c326f20007c34dd3', '6793f4e4c326f20007c34dd4', '6793f4e4c326f20007c34dd5', '6793f4e4c326f20007c34dd6', '6793f4e4c326f20007c34dd7', '6793f4e4c326f20007c34dd8', '6793f4e4c326f20007c34dd9', '6793f4e4c326f20007c34dda']))"
      ]
     },
     "execution_count": 4,
     "metadata": {},
     "output_type": "execute_result"
    }
   ],
   "source": [
    "get_sensor_names_ids().keys(), get_sensor_names_ids().values()"
   ]
  },
  {
   "cell_type": "markdown",
   "id": "a683b81d",
   "metadata": {},
   "source": [
    "### Dict Ausgabe von der Funktion"
   ]
  },
  {
   "cell_type": "code",
   "execution_count": 6,
   "id": "5dce0a9a",
   "metadata": {},
   "outputs": [
    {
     "data": {
      "text/plain": [
       "{'Temperatur': '6793f4e4c326f20007c34dd3',\n",
       " 'rel_Luftfeuchte': '6793f4e4c326f20007c34dd4',\n",
       " 'Beleuchtungsstärke': '6793f4e4c326f20007c34dd5',\n",
       " 'UV_Intensität': '6793f4e4c326f20007c34dd6',\n",
       " 'PM1': '6793f4e4c326f20007c34dd7',\n",
       " 'PM2_5': '6793f4e4c326f20007c34dd8',\n",
       " 'PM4': '6793f4e4c326f20007c34dd9',\n",
       " 'PM10': '6793f4e4c326f20007c34dda'}"
      ]
     },
     "execution_count": 6,
     "metadata": {},
     "output_type": "execute_result"
    }
   ],
   "source": [
    "get_sensor_names_ids()"
   ]
  },
  {
   "cell_type": "markdown",
   "id": "fa9f03f7",
   "metadata": {},
   "source": [
    "### So kann man auf die einzelne Namen zugreifen"
   ]
  },
  {
   "cell_type": "code",
   "execution_count": 8,
   "id": "6d58c4a8",
   "metadata": {},
   "outputs": [
    {
     "data": {
      "text/plain": [
       "'6793f4e4c326f20007c34dd3'"
      ]
     },
     "execution_count": 8,
     "metadata": {},
     "output_type": "execute_result"
    }
   ],
   "source": [
    "sensor_id = get_sensor_names_ids()[\"Temperatur\"]\n",
    "sensor_id"
   ]
  },
  {
   "cell_type": "markdown",
   "id": "65517691",
   "metadata": {},
   "source": [
    "### create_dataframe function mit inputs sensor_id und from- und toDate die einen default Wert haben"
   ]
  },
  {
   "cell_type": "code",
   "execution_count": 2,
   "id": "5f492cb1",
   "metadata": {},
   "outputs": [],
   "source": [
    "def create_dataframe(days_back=100):\n",
    "    sensor_ids = get_sensor_names_ids()\n",
    "    end_date = datetime.utcnow()\n",
    "    start_date = end_date - timedelta(days=days_back)\n",
    "\n",
    "    df_all = pd.DataFrame()\n",
    "\n",
    "    for name, sensor_id in sensor_ids.items():\n",
    "        url = API_URL_FORMAT_SENSOR.format(\n",
    "            sensebox_id=SENSEBOX_ID,\n",
    "            sensor_id=sensor_id,\n",
    "            fromDate=start_date.isoformat() + \"Z\",\n",
    "            toDate=end_date.isoformat() + \"Z\"\n",
    "        )\n",
    "        response = requests.get(url)\n",
    "        if response.status_code != 200:\n",
    "            print(f\"Fehler beim Abrufen von {name}: {response.status_code}\")\n",
    "            continue\n",
    "\n",
    "        data = response.json()\n",
    "        if not data:\n",
    "            print(f\"Keine Daten für {name}\")\n",
    "            continue\n",
    "\n",
    "        df_sensor = pd.DataFrame(data)\n",
    "        df_sensor[\"createdAt\"] = pd.to_datetime(df_sensor[\"createdAt\"])\n",
    "        df_sensor = df_sensor[[\"createdAt\", \"value\"]].rename(columns={\"value\": name})\n",
    "        df_sensor.set_index(\"createdAt\", inplace=True)\n",
    "\n",
    "        df_all = df_all.join(df_sensor, how=\"outer\")\n",
    "\n",
    "    return df_all.sort_index()"
   ]
  },
  {
   "cell_type": "code",
   "execution_count": 11,
   "id": "6ca1bf19",
   "metadata": {},
   "outputs": [],
   "source": [
    "#data = create_dataframe(sensor_id=get_sensor_names_ids()[\"Temperatur\"])"
   ]
  },
  {
   "cell_type": "code",
   "execution_count": 12,
   "id": "e9a99ece-cb1a-4127-bddc-c66eeaf88020",
   "metadata": {},
   "outputs": [],
   "source": [
    "#data"
   ]
  },
  {
   "cell_type": "code",
   "execution_count": 6,
   "id": "ce18ad5d-9bf6-4226-bc69-1689e0b24452",
   "metadata": {},
   "outputs": [
    {
     "ename": "NameError",
     "evalue": "name 'get_sensor_names_ids' is not defined",
     "output_type": "error",
     "traceback": [
      "\u001b[31m---------------------------------------------------------------------------\u001b[39m",
      "\u001b[31mNameError\u001b[39m                                 Traceback (most recent call last)",
      "\u001b[36mCell\u001b[39m\u001b[36m \u001b[39m\u001b[32mIn[6]\u001b[39m\u001b[32m, line 1\u001b[39m\n\u001b[32m----> \u001b[39m\u001b[32m1\u001b[39m df = \u001b[43mcreate_dataframe\u001b[49m\u001b[43m(\u001b[49m\u001b[43m)\u001b[49m\n",
      "\u001b[36mCell\u001b[39m\u001b[36m \u001b[39m\u001b[32mIn[2]\u001b[39m\u001b[32m, line 2\u001b[39m, in \u001b[36mcreate_dataframe\u001b[39m\u001b[34m(days_back)\u001b[39m\n\u001b[32m      1\u001b[39m \u001b[38;5;28;01mdef\u001b[39;00m\u001b[38;5;250m \u001b[39m\u001b[34mcreate_dataframe\u001b[39m(days_back=\u001b[32m100\u001b[39m):\n\u001b[32m----> \u001b[39m\u001b[32m2\u001b[39m     sensor_ids = \u001b[43mget_sensor_names_ids\u001b[49m()\n\u001b[32m      3\u001b[39m     end_date = datetime.utcnow()\n\u001b[32m      4\u001b[39m     start_date = end_date - timedelta(days=days_back)\n",
      "\u001b[31mNameError\u001b[39m: name 'get_sensor_names_ids' is not defined"
     ]
    }
   ],
   "source": [
    "df = create_dataframe()"
   ]
  },
  {
   "cell_type": "code",
   "execution_count": 4,
   "id": "b1c828bb-156e-42c8-862b-a3de7ea9b2b4",
   "metadata": {},
   "outputs": [
    {
     "ename": "NameError",
     "evalue": "name 'df' is not defined",
     "output_type": "error",
     "traceback": [
      "\u001b[31m---------------------------------------------------------------------------\u001b[39m",
      "\u001b[31mNameError\u001b[39m                                 Traceback (most recent call last)",
      "\u001b[36mCell\u001b[39m\u001b[36m \u001b[39m\u001b[32mIn[4]\u001b[39m\u001b[32m, line 1\u001b[39m\n\u001b[32m----> \u001b[39m\u001b[32m1\u001b[39m \u001b[43mdf\u001b[49m.info()\n",
      "\u001b[31mNameError\u001b[39m: name 'df' is not defined"
     ]
    }
   ],
   "source": [
    "df.info()"
   ]
  },
  {
   "cell_type": "code",
   "execution_count": 5,
   "id": "2aab1a01-f3d7-4919-8b41-ae5fd3ce7e93",
   "metadata": {},
   "outputs": [
    {
     "ename": "NameError",
     "evalue": "name 'df' is not defined",
     "output_type": "error",
     "traceback": [
      "\u001b[31m---------------------------------------------------------------------------\u001b[39m",
      "\u001b[31mNameError\u001b[39m                                 Traceback (most recent call last)",
      "\u001b[36mCell\u001b[39m\u001b[36m \u001b[39m\u001b[32mIn[5]\u001b[39m\u001b[32m, line 1\u001b[39m\n\u001b[32m----> \u001b[39m\u001b[32m1\u001b[39m \u001b[43mdf\u001b[49m\n",
      "\u001b[31mNameError\u001b[39m: name 'df' is not defined"
     ]
    }
   ],
   "source": [
    "df"
   ]
  },
  {
   "cell_type": "markdown",
   "id": "2308db1c",
   "metadata": {},
   "source": [
    "## Temperaturvorhersage für 48 Stunden:"
   ]
  },
  {
   "cell_type": "code",
   "execution_count": 1,
   "id": "2a7fae7b",
   "metadata": {},
   "outputs": [
    {
     "ename": "NameError",
     "evalue": "name 'df' is not defined",
     "output_type": "error",
     "traceback": [
      "\u001b[31m---------------------------------------------------------------------------\u001b[39m",
      "\u001b[31mNameError\u001b[39m                                 Traceback (most recent call last)",
      "\u001b[36mCell\u001b[39m\u001b[36m \u001b[39m\u001b[32mIn[1]\u001b[39m\u001b[32m, line 2\u001b[39m\n\u001b[32m      1\u001b[39m \u001b[38;5;66;03m# Sensebox speichert created_at als Index. Wir brauchen diesen aber als Spalte um die Zeitreihe zu verwenden\u001b[39;00m\n\u001b[32m----> \u001b[39m\u001b[32m2\u001b[39m df = \u001b[43mdf\u001b[49m.reset_index()\n\u001b[32m      3\u001b[39m df[\u001b[33m'\u001b[39m\u001b[33mcreatedAt\u001b[39m\u001b[33m'\u001b[39m] = pd.to_datetime(df[\u001b[33m'\u001b[39m\u001b[33mcreatedAt\u001b[39m\u001b[33m'\u001b[39m])\n\u001b[32m      5\u001b[39m \u001b[38;5;66;03m# Ebenfalls speichert die Sensebox alle Variablen als Objekte. So können wir keine Aggregationen oder ähnliches anwenden. Deswegen\u001b[39;00m\n",
      "\u001b[31mNameError\u001b[39m: name 'df' is not defined"
     ]
    }
   ],
   "source": [
    "\n",
    "# Sensebox speichert created_at als Index. Wir brauchen diesen aber als Spalte um die Zeitreihe zu verwenden\n",
    "df = df.reset_index()\n",
    "df['createdAt'] = pd.to_datetime(df['createdAt'])\n",
    "\n",
    "# Ebenfalls speichert die Sensebox alle Variablen als Objekte. So können wir keine Aggregationen oder ähnliches anwenden. Deswegen\n",
    "for col in df.columns:\n",
    "    if col != 'createdAt': #created_at ist bereits oben als Datetime gelistet\n",
    "        df[col] = pd.to_numeric(df[col], errors='coerce')\n",
    "\n",
    "# Wir setzen created_at jetzt gewollt als Index, damit wir die Daten stündlich resamplen können\n",
    "df.set_index('createdAt', inplace=True)\n",
    "\n",
    "# Stündliches resampling\n",
    "df_hourly = df.resample('1h').mean().dropna().reset_index()\n",
    "\n",
    "# Zeitmerkmale für zusätzliche erzeugen\n",
    "df_hourly['hour'] = df_hourly['createdAt'].dt.hour\n",
    "df_hourly['dayofweek'] = df_hourly['createdAt'].dt.dayofweek\n",
    "\n",
    "# 48 Zielspalten erzeugen, damit wir für 48h die Temperatur vorhersagen können\n",
    "for i in range(1, 49):\n",
    "    df_hourly[f'Temperatur_t+{i}'] = df_hourly['Temperatur'].shift(-i)\n",
    "\n",
    "# Zeilen bei denen einer dieser Zielwerte fehlt müssen gedropt werden, sonst können wir keine Vorhersagen machen\n",
    "df_multi = df_hourly.dropna(subset=[f'Temperatur_t+{i}' for i in range(1, 49)]).copy()\n",
    "\n",
    "# Feature definieren\n",
    "feature_cols = ['Temperatur', 'rel_Luftfeuchte', 'Beleuchtungsstärke', 'UV_Intensität', 'hour', 'dayofweek', 'PM1', 'PM2_5', 'PM4', 'PM10']\n",
    "\n",
    "#Aufteilung in Feature und Label\n",
    "X_multi = df_multi[feature_cols]\n",
    "y_multi = df_multi[[f'Temperatur_t+{i}' for i in range(1, 49)]]\n",
    "\n",
    "# Split in Trainings und Testdaten. 80% Trainingsdaten und 20% Testdaten\n",
    "split_index = int(len(df_multi) * 0.8)\n",
    "X_train_multi, X_test_multi = X_multi[:split_index], X_multi[split_index:]\n",
    "y_train_multi, y_test_multi = y_multi[:split_index], y_multi[split_index:]\n",
    "\n",
    "\n",
    "# Wir trainieren unser Modell für die 48h, es werden intern 48 unabhängige Forest trainiert, aber mit den gleichen Feature\n",
    "\n",
    "multi_model = MultiOutputRegressor(RandomForestRegressor(n_estimators=100, random_state=42))\n",
    "multi_model.fit(X_train_multi, y_train_multi)\n",
    "\n",
    "# Vorhersage machen\n",
    "y_pred_multi = multi_model.predict(X_test_multi)\n",
    "\n",
    "# Visualisierung der vorhergesagten Daten mit den tatsächlichen Daten\n",
    "\n",
    "plt.figure(figsize=(12, 5))\n",
    "plt.plot(range(1, 49), y_test_multi.iloc[0], label='True')\n",
    "plt.plot(range(1, 49), y_pred_multi[0], label='Prediction')\n",
    "plt.xlabel(\"Forecast Horizon (Stunden)\")\n",
    "plt.ylabel(\"Temperatur\")\n",
    "plt.title(\"48h Temperaturvorhersage (erstes Testsample, stündlich aggregiert)\")\n",
    "plt.legend()\n",
    "plt.grid()\n",
    "plt.show()\n"
   ]
  },
  {
   "cell_type": "markdown",
   "id": "31d6712e-fa20-4119-bcad-b38232ebc347",
   "metadata": {},
   "source": [
    "#### Kennzahlen unseres Models ausgeben:"
   ]
  },
  {
   "cell_type": "code",
   "execution_count": 72,
   "id": "b799cb7f-db8b-41f3-8766-644796ebea64",
   "metadata": {},
   "outputs": [
    {
     "name": "stdout",
     "output_type": "stream",
     "text": [
      "Gesamte Modellgüte (über alle 48 Forecast-Stunden):\n",
      "MAE:  1.999\n",
      "RMSE: 2.472\n",
      "R²:   0.340\n"
     ]
    },
    {
     "name": "stderr",
     "output_type": "stream",
     "text": [
      "C:\\Users\\LukeG\\anaconda3\\Lib\\site-packages\\sklearn\\metrics\\_regression.py:492: FutureWarning: 'squared' is deprecated in version 1.4 and will be removed in 1.6. To calculate the root mean squared error, use the function'root_mean_squared_error'.\n",
      "  warnings.warn(\n"
     ]
    }
   ],
   "source": [
    "# Gesamte Metriken berechnen (alle 48 Stunden auf einmal)\n",
    "mae_total = mean_absolute_error(y_test_multi, y_pred_multi)\n",
    "rmse_total = mean_squared_error(y_test_multi, y_pred_multi, squared=False)\n",
    "r2_total = r2_score(y_test_multi, y_pred_multi)\n",
    "\n",
    "print(f\"Gesamte Modellgüte (über alle 48 Forecast-Stunden):\")\n",
    "print(f\"MAE:  {mae_total:.3f}\")\n",
    "print(f\"RMSE: {rmse_total:.3f}\")\n",
    "print(f\"R²:   {r2_total:.3f}\")\n"
   ]
  },
  {
   "cell_type": "markdown",
   "id": "7d5da62a-609e-44c1-950a-d5201a1489f7",
   "metadata": {},
   "source": [
    "MAE, RMSE sind ok. R² Wert leider sehr hoch, das liegt aber wahrscheinlich an der sehr kleinen Datenmenge"
   ]
  },
  {
   "cell_type": "code",
   "execution_count": 76,
   "id": "25ad80b4-0284-4b88-b26a-4b808f46c61a",
   "metadata": {},
   "outputs": [
    {
     "data": {
      "image/png": "[encoded data removed]",
      "text/plain": [
       "<Figure size 1000x500 with 1 Axes>"
      ]
     },
     "metadata": {},
     "output_type": "display_data"
    }
   ],
   "source": [
    "# Feature Importances für die erste Stunde\n",
    "\n",
    "importances = multi_model.estimators_[0].feature_importances_\n",
    "features = X_multi.columns\n",
    "\n",
    "# Visualisierung der Feautureimportance\n",
    "import matplotlib.pyplot as plt\n",
    "plt.figure(figsize=(10, 5))\n",
    "plt.barh(features, importances)\n",
    "plt.xlabel(\"Feature Importance\")\n",
    "plt.title(\"Feature Importance für Temperatur_t+1\")\n",
    "plt.grid()\n",
    "plt.show()\n"
   ]
  },
  {
   "cell_type": "code",
   "execution_count": 78,
   "id": "02343af3-112b-43bf-b107-923dd66ea730",
   "metadata": {},
   "outputs": [
    {
     "data": {
      "image/png": "[encoded data removed]",
      "text/plain": [
       "<Figure size 1000x500 with 1 Axes>"
      ]
     },
     "metadata": {},
     "output_type": "display_data"
    }
   ],
   "source": [
    "# Mittlere Feature Importance über alle 48 Modelle\n",
    "importances_avg = np.mean([est.feature_importances_ for est in multi_model.estimators_], axis=0)\n",
    "\n",
    "#Visualisierung der Featureimportance\n",
    "plt.figure(figsize=(10, 5))\n",
    "plt.barh(features, importances_avg)\n",
    "plt.xlabel(\"Durchschnittliche Feature Importance\")\n",
    "plt.title(\"Durchschnittliche Feature Importance über alle 48 Stunden\")\n",
    "plt.grid()\n",
    "plt.show()\n"
   ]
  }
 ],
 "metadata": {
  "kernelspec": {
   "display_name": "Python 3",
   "language": "python",
   "name": "python3"
  },
  "language_info": {
   "codemirror_mode": {
    "name": "ipython",
    "version": 3
   },
   "file_extension": ".py",
   "mimetype": "text/x-python",
   "name": "python",
   "nbconvert_exporter": "python",
   "pygments_lexer": "ipython3",
   "version": "3.12.10"
  }
 },
 "nbformat": 4,
 "nbformat_minor": 5
}
